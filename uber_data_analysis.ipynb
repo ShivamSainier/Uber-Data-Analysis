{
 "cells": [
  {
   "cell_type": "markdown",
   "metadata": {},
   "source": [
    "## import Libraries"
   ]
  },
  {
   "cell_type": "code",
   "execution_count": 24,
   "metadata": {},
   "outputs": [],
   "source": [
    "import pandas as pd\n",
    "import numpy as np \n",
    "import seaborn as se\n",
    "import matplotlib.pyplot as plt"
   ]
  },
  {
   "cell_type": "markdown",
   "metadata": {},
   "source": [
    "# import csv file to the memory"
   ]
  },
  {
   "cell_type": "code",
   "execution_count": 25,
   "metadata": {},
   "outputs": [],
   "source": [
    "data=pd.read_csv('uber-raw-data-aug14.csv')"
   ]
  },
  {
   "cell_type": "code",
   "execution_count": 26,
   "metadata": {},
   "outputs": [
    {
     "name": "stdout",
     "output_type": "stream",
     "text": [
      "          Date/Time      Lat      Lon    Base\n",
      "0  8/1/2014 0:03:00  40.7366 -73.9906  B02512\n",
      "1  8/1/2014 0:09:00  40.7260 -73.9918  B02512\n",
      "2  8/1/2014 0:12:00  40.7209 -74.0507  B02512\n",
      "3  8/1/2014 0:12:00  40.7387 -73.9856  B02512\n",
      "4  8/1/2014 0:12:00  40.7323 -74.0077  B02512\n"
     ]
    }
   ],
   "source": [
    "print(data.head())"
   ]
  },
  {
   "cell_type": "markdown",
   "metadata": {},
   "source": [
    "# convert datetime and add some useful columns"
   ]
  },
  {
   "cell_type": "code",
   "execution_count": 27,
   "metadata": {},
   "outputs": [],
   "source": [
    "data['Date/Time']=data['Date/Time'].map(pd.to_datetime)"
   ]
  },
  {
   "cell_type": "code",
   "execution_count": 28,
   "metadata": {},
   "outputs": [],
   "source": [
    "def dom(data):\n",
    "    return data.day\n",
    "\n",
    "def week(data):\n",
    "    return data.weekday()\n",
    "\n",
    "def hour(data):\n",
    "    return data.hour"
   ]
  },
  {
   "cell_type": "code",
   "execution_count": 29,
   "metadata": {},
   "outputs": [],
   "source": [
    "data['dom']=data['Date/Time'].map(dom)\n",
    "data['week']=data['Date/Time'].map(week)\n",
    "data['hour']=data['Date/Time'].map(hour)"
   ]
  },
  {
   "cell_type": "code",
   "execution_count": 30,
   "metadata": {},
   "outputs": [
    {
     "name": "stdout",
     "output_type": "stream",
     "text": [
      "            Date/Time      Lat      Lon    Base  dom  week  hour\n",
      "0 2014-08-01 00:03:00  40.7366 -73.9906  B02512    1     4     0\n",
      "1 2014-08-01 00:09:00  40.7260 -73.9918  B02512    1     4     0\n",
      "2 2014-08-01 00:12:00  40.7209 -74.0507  B02512    1     4     0\n",
      "3 2014-08-01 00:12:00  40.7387 -73.9856  B02512    1     4     0\n",
      "4 2014-08-01 00:12:00  40.7323 -74.0077  B02512    1     4     0\n"
     ]
    }
   ],
   "source": [
    "print(data.head())"
   ]
  },
  {
   "cell_type": "markdown",
   "metadata": {},
   "source": [
    "#  analysis"
   ]
  },
  {
   "cell_type": "code",
   "execution_count": 31,
   "metadata": {},
   "outputs": [
    {
     "data": {
      "text/plain": [
       "Text(0.5, 1.0, 'Frequency by Dom-Uber-Apr 2014')"
      ]
     },
     "execution_count": 31,
     "metadata": {},
     "output_type": "execute_result"
    },
    {
     "data": {
      "image/png": "[encoded data removed]",
      "text/plain": [
       "<Figure size 432x288 with 1 Axes>"
      ]
     },
     "metadata": {
      "needs_background": "light"
     },
     "output_type": "display_data"
    }
   ],
   "source": [
    "plt.hist(data.dom,bins=30,rwidth=0.8,range=(0.5,30.5))\n",
    "plt.xlabel('Date of Month')\n",
    "plt.ylabel('Frequency')\n",
    "plt.title('Frequency by Dom-Uber-Apr 2014')"
   ]
  },
  {
   "cell_type": "code",
   "execution_count": 32,
   "metadata": {},
   "outputs": [],
   "source": [
    "d=data.groupby('dom')"
   ]
  },
  {
   "cell_type": "code",
   "execution_count": 33,
   "metadata": {},
   "outputs": [
    {
     "data": {
      "text/html": [
       "<div>\n",
       "<style scoped>\n",
       "    .dataframe tbody tr th:only-of-type {\n",
       "        vertical-align: middle;\n",
       "    }\n",
       "\n",
       "    .dataframe tbody tr th {\n",
       "        vertical-align: top;\n",
       "    }\n",
       "\n",
       "    .dataframe thead th {\n",
       "        text-align: right;\n",
       "    }\n",
       "</style>\n",
       "<table border=\"1\" class=\"dataframe\">\n",
       "  <thead>\n",
       "    <tr style=\"text-align: right;\">\n",
       "      <th></th>\n",
       "      <th>Date/Time</th>\n",
       "      <th>Lat</th>\n",
       "      <th>Lon</th>\n",
       "      <th>Base</th>\n",
       "      <th>week</th>\n",
       "      <th>hour</th>\n",
       "    </tr>\n",
       "    <tr>\n",
       "      <th>dom</th>\n",
       "      <th></th>\n",
       "      <th></th>\n",
       "      <th></th>\n",
       "      <th></th>\n",
       "      <th></th>\n",
       "      <th></th>\n",
       "    </tr>\n",
       "  </thead>\n",
       "  <tbody>\n",
       "    <tr>\n",
       "      <th>1</th>\n",
       "      <td>2014-08-01 00:03:00</td>\n",
       "      <td>40.7366</td>\n",
       "      <td>-73.9906</td>\n",
       "      <td>B02512</td>\n",
       "      <td>4</td>\n",
       "      <td>0</td>\n",
       "    </tr>\n",
       "    <tr>\n",
       "      <th>2</th>\n",
       "      <td>2014-08-02 00:01:00</td>\n",
       "      <td>40.7402</td>\n",
       "      <td>-74.0058</td>\n",
       "      <td>B02512</td>\n",
       "      <td>5</td>\n",
       "      <td>0</td>\n",
       "    </tr>\n",
       "    <tr>\n",
       "      <th>3</th>\n",
       "      <td>2014-08-03 00:03:00</td>\n",
       "      <td>40.7488</td>\n",
       "      <td>-74.0273</td>\n",
       "      <td>B02512</td>\n",
       "      <td>6</td>\n",
       "      <td>0</td>\n",
       "    </tr>\n",
       "    <tr>\n",
       "      <th>4</th>\n",
       "      <td>2014-08-04 00:03:00</td>\n",
       "      <td>40.7277</td>\n",
       "      <td>-73.9981</td>\n",
       "      <td>B02512</td>\n",
       "      <td>0</td>\n",
       "      <td>0</td>\n",
       "    </tr>\n",
       "    <tr>\n",
       "      <th>5</th>\n",
       "      <td>2014-08-05 00:09:00</td>\n",
       "      <td>40.7640</td>\n",
       "      <td>-73.9731</td>\n",
       "      <td>B02512</td>\n",
       "      <td>1</td>\n",
       "      <td>0</td>\n",
       "    </tr>\n",
       "    <tr>\n",
       "      <th>6</th>\n",
       "      <td>2014-08-06 00:15:00</td>\n",
       "      <td>40.7408</td>\n",
       "      <td>-74.0054</td>\n",
       "      <td>B02512</td>\n",
       "      <td>2</td>\n",
       "      <td>0</td>\n",
       "    </tr>\n",
       "    <tr>\n",
       "      <th>7</th>\n",
       "      <td>2014-08-07 00:03:00</td>\n",
       "      <td>40.7455</td>\n",
       "      <td>-73.9895</td>\n",
       "      <td>B02512</td>\n",
       "      <td>3</td>\n",
       "      <td>0</td>\n",
       "    </tr>\n",
       "    <tr>\n",
       "      <th>8</th>\n",
       "      <td>2014-08-08 00:01:00</td>\n",
       "      <td>40.7241</td>\n",
       "      <td>-74.0032</td>\n",
       "      <td>B02512</td>\n",
       "      <td>4</td>\n",
       "      <td>0</td>\n",
       "    </tr>\n",
       "    <tr>\n",
       "      <th>9</th>\n",
       "      <td>2014-08-09 00:00:00</td>\n",
       "      <td>40.7107</td>\n",
       "      <td>-73.9364</td>\n",
       "      <td>B02512</td>\n",
       "      <td>5</td>\n",
       "      <td>0</td>\n",
       "    </tr>\n",
       "    <tr>\n",
       "      <th>10</th>\n",
       "      <td>2014-08-10 00:00:00</td>\n",
       "      <td>40.7223</td>\n",
       "      <td>-73.9550</td>\n",
       "      <td>B02512</td>\n",
       "      <td>6</td>\n",
       "      <td>0</td>\n",
       "    </tr>\n",
       "    <tr>\n",
       "      <th>11</th>\n",
       "      <td>2014-08-11 00:06:00</td>\n",
       "      <td>40.6952</td>\n",
       "      <td>-74.1794</td>\n",
       "      <td>B02512</td>\n",
       "      <td>0</td>\n",
       "      <td>0</td>\n",
       "    </tr>\n",
       "    <tr>\n",
       "      <th>12</th>\n",
       "      <td>2014-08-12 00:07:00</td>\n",
       "      <td>40.7228</td>\n",
       "      <td>-73.9991</td>\n",
       "      <td>B02512</td>\n",
       "      <td>1</td>\n",
       "      <td>0</td>\n",
       "    </tr>\n",
       "    <tr>\n",
       "      <th>13</th>\n",
       "      <td>2014-08-13 00:03:00</td>\n",
       "      <td>40.7371</td>\n",
       "      <td>-74.0057</td>\n",
       "      <td>B02512</td>\n",
       "      <td>2</td>\n",
       "      <td>0</td>\n",
       "    </tr>\n",
       "    <tr>\n",
       "      <th>14</th>\n",
       "      <td>2014-08-14 00:01:00</td>\n",
       "      <td>40.6800</td>\n",
       "      <td>-73.9769</td>\n",
       "      <td>B02512</td>\n",
       "      <td>3</td>\n",
       "      <td>0</td>\n",
       "    </tr>\n",
       "    <tr>\n",
       "      <th>15</th>\n",
       "      <td>2014-08-15 00:00:00</td>\n",
       "      <td>40.7416</td>\n",
       "      <td>-73.9933</td>\n",
       "      <td>B02512</td>\n",
       "      <td>4</td>\n",
       "      <td>0</td>\n",
       "    </tr>\n",
       "    <tr>\n",
       "      <th>16</th>\n",
       "      <td>2014-08-16 00:00:00</td>\n",
       "      <td>40.7562</td>\n",
       "      <td>-73.9674</td>\n",
       "      <td>B02512</td>\n",
       "      <td>5</td>\n",
       "      <td>0</td>\n",
       "    </tr>\n",
       "    <tr>\n",
       "      <th>17</th>\n",
       "      <td>2014-08-17 00:02:00</td>\n",
       "      <td>40.7304</td>\n",
       "      <td>-74.0068</td>\n",
       "      <td>B02512</td>\n",
       "      <td>6</td>\n",
       "      <td>0</td>\n",
       "    </tr>\n",
       "    <tr>\n",
       "      <th>18</th>\n",
       "      <td>2014-08-18 00:08:00</td>\n",
       "      <td>40.7285</td>\n",
       "      <td>-73.9957</td>\n",
       "      <td>B02512</td>\n",
       "      <td>0</td>\n",
       "      <td>0</td>\n",
       "    </tr>\n",
       "    <tr>\n",
       "      <th>19</th>\n",
       "      <td>2014-08-19 00:09:00</td>\n",
       "      <td>40.7190</td>\n",
       "      <td>-73.9871</td>\n",
       "      <td>B02512</td>\n",
       "      <td>1</td>\n",
       "      <td>0</td>\n",
       "    </tr>\n",
       "    <tr>\n",
       "      <th>20</th>\n",
       "      <td>2014-08-20 00:01:00</td>\n",
       "      <td>40.7153</td>\n",
       "      <td>-73.9513</td>\n",
       "      <td>B02512</td>\n",
       "      <td>2</td>\n",
       "      <td>0</td>\n",
       "    </tr>\n",
       "    <tr>\n",
       "      <th>21</th>\n",
       "      <td>2014-08-21 00:02:00</td>\n",
       "      <td>40.7655</td>\n",
       "      <td>-73.9760</td>\n",
       "      <td>B02512</td>\n",
       "      <td>3</td>\n",
       "      <td>0</td>\n",
       "    </tr>\n",
       "    <tr>\n",
       "      <th>22</th>\n",
       "      <td>2014-08-22 00:01:00</td>\n",
       "      <td>40.7343</td>\n",
       "      <td>-74.0062</td>\n",
       "      <td>B02512</td>\n",
       "      <td>4</td>\n",
       "      <td>0</td>\n",
       "    </tr>\n",
       "    <tr>\n",
       "      <th>23</th>\n",
       "      <td>2014-08-23 00:00:00</td>\n",
       "      <td>40.7657</td>\n",
       "      <td>-73.9787</td>\n",
       "      <td>B02512</td>\n",
       "      <td>5</td>\n",
       "      <td>0</td>\n",
       "    </tr>\n",
       "    <tr>\n",
       "      <th>24</th>\n",
       "      <td>2014-08-24 00:00:00</td>\n",
       "      <td>40.7625</td>\n",
       "      <td>-73.9853</td>\n",
       "      <td>B02512</td>\n",
       "      <td>6</td>\n",
       "      <td>0</td>\n",
       "    </tr>\n",
       "    <tr>\n",
       "      <th>25</th>\n",
       "      <td>2014-08-25 00:01:00</td>\n",
       "      <td>40.7630</td>\n",
       "      <td>-73.9713</td>\n",
       "      <td>B02512</td>\n",
       "      <td>0</td>\n",
       "      <td>0</td>\n",
       "    </tr>\n",
       "    <tr>\n",
       "      <th>26</th>\n",
       "      <td>2014-08-26 00:04:00</td>\n",
       "      <td>40.7283</td>\n",
       "      <td>-73.9993</td>\n",
       "      <td>B02512</td>\n",
       "      <td>1</td>\n",
       "      <td>0</td>\n",
       "    </tr>\n",
       "    <tr>\n",
       "      <th>27</th>\n",
       "      <td>2014-08-27 00:01:00</td>\n",
       "      <td>40.7377</td>\n",
       "      <td>-74.0037</td>\n",
       "      <td>B02512</td>\n",
       "      <td>2</td>\n",
       "      <td>0</td>\n",
       "    </tr>\n",
       "    <tr>\n",
       "      <th>28</th>\n",
       "      <td>2014-08-28 00:03:00</td>\n",
       "      <td>40.7545</td>\n",
       "      <td>-73.9867</td>\n",
       "      <td>B02512</td>\n",
       "      <td>3</td>\n",
       "      <td>0</td>\n",
       "    </tr>\n",
       "    <tr>\n",
       "      <th>29</th>\n",
       "      <td>2014-08-29 00:03:00</td>\n",
       "      <td>40.7553</td>\n",
       "      <td>-73.9839</td>\n",
       "      <td>B02512</td>\n",
       "      <td>4</td>\n",
       "      <td>0</td>\n",
       "    </tr>\n",
       "    <tr>\n",
       "      <th>30</th>\n",
       "      <td>2014-08-30 00:02:00</td>\n",
       "      <td>40.7498</td>\n",
       "      <td>-73.9878</td>\n",
       "      <td>B02512</td>\n",
       "      <td>5</td>\n",
       "      <td>0</td>\n",
       "    </tr>\n",
       "    <tr>\n",
       "      <th>31</th>\n",
       "      <td>2014-08-31 00:00:00</td>\n",
       "      <td>40.7649</td>\n",
       "      <td>-73.9664</td>\n",
       "      <td>B02512</td>\n",
       "      <td>6</td>\n",
       "      <td>0</td>\n",
       "    </tr>\n",
       "  </tbody>\n",
       "</table>\n",
       "</div>"
      ],
      "text/plain": [
       "              Date/Time      Lat      Lon    Base  week  hour\n",
       "dom                                                          \n",
       "1   2014-08-01 00:03:00  40.7366 -73.9906  B02512     4     0\n",
       "2   2014-08-02 00:01:00  40.7402 -74.0058  B02512     5     0\n",
       "3   2014-08-03 00:03:00  40.7488 -74.0273  B02512     6     0\n",
       "4   2014-08-04 00:03:00  40.7277 -73.9981  B02512     0     0\n",
       "5   2014-08-05 00:09:00  40.7640 -73.9731  B02512     1     0\n",
       "6   2014-08-06 00:15:00  40.7408 -74.0054  B02512     2     0\n",
       "7   2014-08-07 00:03:00  40.7455 -73.9895  B02512     3     0\n",
       "8   2014-08-08 00:01:00  40.7241 -74.0032  B02512     4     0\n",
       "9   2014-08-09 00:00:00  40.7107 -73.9364  B02512     5     0\n",
       "10  2014-08-10 00:00:00  40.7223 -73.9550  B02512     6     0\n",
       "11  2014-08-11 00:06:00  40.6952 -74.1794  B02512     0     0\n",
       "12  2014-08-12 00:07:00  40.7228 -73.9991  B02512     1     0\n",
       "13  2014-08-13 00:03:00  40.7371 -74.0057  B02512     2     0\n",
       "14  2014-08-14 00:01:00  40.6800 -73.9769  B02512     3     0\n",
       "15  2014-08-15 00:00:00  40.7416 -73.9933  B02512     4     0\n",
       "16  2014-08-16 00:00:00  40.7562 -73.9674  B02512     5     0\n",
       "17  2014-08-17 00:02:00  40.7304 -74.0068  B02512     6     0\n",
       "18  2014-08-18 00:08:00  40.7285 -73.9957  B02512     0     0\n",
       "19  2014-08-19 00:09:00  40.7190 -73.9871  B02512     1     0\n",
       "20  2014-08-20 00:01:00  40.7153 -73.9513  B02512     2     0\n",
       "21  2014-08-21 00:02:00  40.7655 -73.9760  B02512     3     0\n",
       "22  2014-08-22 00:01:00  40.7343 -74.0062  B02512     4     0\n",
       "23  2014-08-23 00:00:00  40.7657 -73.9787  B02512     5     0\n",
       "24  2014-08-24 00:00:00  40.7625 -73.9853  B02512     6     0\n",
       "25  2014-08-25 00:01:00  40.7630 -73.9713  B02512     0     0\n",
       "26  2014-08-26 00:04:00  40.7283 -73.9993  B02512     1     0\n",
       "27  2014-08-27 00:01:00  40.7377 -74.0037  B02512     2     0\n",
       "28  2014-08-28 00:03:00  40.7545 -73.9867  B02512     3     0\n",
       "29  2014-08-29 00:03:00  40.7553 -73.9839  B02512     4     0\n",
       "30  2014-08-30 00:02:00  40.7498 -73.9878  B02512     5     0\n",
       "31  2014-08-31 00:00:00  40.7649 -73.9664  B02512     6     0"
      ]
     },
     "execution_count": 33,
     "metadata": {},
     "output_type": "execute_result"
    }
   ],
   "source": [
    "d.first()"
   ]
  },
  {
   "cell_type": "code",
   "execution_count": 34,
   "metadata": {},
   "outputs": [],
   "source": [
    "def count_rows(data):\n",
    "    return len(data)\n"
   ]
  },
  {
   "cell_type": "code",
   "execution_count": 35,
   "metadata": {},
   "outputs": [],
   "source": [
    "by_date=data.groupby('dom').apply(count_rows)"
   ]
  },
  {
   "cell_type": "code",
   "execution_count": 36,
   "metadata": {},
   "outputs": [
    {
     "data": {
      "text/plain": [
       "dom\n",
       "1     32353\n",
       "2     28678\n",
       "3     23146\n",
       "4     24952\n",
       "5     28094\n",
       "6     30495\n",
       "7     32759\n",
       "8     30411\n",
       "9     26286\n",
       "10    20584\n",
       "11    22632\n",
       "12    29646\n",
       "13    29788\n",
       "14    30457\n",
       "15    28974\n",
       "16    26234\n",
       "17    21209\n",
       "18    21956\n",
       "19    24834\n",
       "20    27955\n",
       "21    32304\n",
       "22    29512\n",
       "23    27097\n",
       "24    22036\n",
       "25    22093\n",
       "26    24550\n",
       "27    27018\n",
       "28    28597\n",
       "29    27424\n",
       "30    23930\n",
       "31    23271\n",
       "dtype: int64"
      ]
     },
     "execution_count": 36,
     "metadata": {},
     "output_type": "execute_result"
    }
   ],
   "source": [
    "by_date"
   ]
  },
  {
   "cell_type": "code",
   "execution_count": 37,
   "metadata": {},
   "outputs": [
    {
     "data": {
      "text/plain": [
       "[<matplotlib.lines.Line2D at 0xe1aca0>]"
      ]
     },
     "execution_count": 37,
     "metadata": {},
     "output_type": "execute_result"
    },
    {
     "data": {
      "image/png": "[encoded data removed]",
      "text/plain": [
       "<Figure size 432x288 with 1 Axes>"
      ]
     },
     "metadata": {
      "needs_background": "light"
     },
     "output_type": "display_data"
    }
   ],
   "source": [
    "plt.plot(by_date)"
   ]
  },
  {
   "cell_type": "code",
   "execution_count": 38,
   "metadata": {},
   "outputs": [],
   "source": [
    "by_date_sorted=by_date.sort_values()"
   ]
  },
  {
   "cell_type": "code",
   "execution_count": 39,
   "metadata": {},
   "outputs": [
    {
     "data": {
      "text/plain": [
       "dom\n",
       "10    20584\n",
       "17    21209\n",
       "18    21956\n",
       "24    22036\n",
       "25    22093\n",
       "11    22632\n",
       "3     23146\n",
       "31    23271\n",
       "30    23930\n",
       "26    24550\n",
       "19    24834\n",
       "4     24952\n",
       "16    26234\n",
       "9     26286\n",
       "27    27018\n",
       "23    27097\n",
       "29    27424\n",
       "20    27955\n",
       "5     28094\n",
       "28    28597\n",
       "2     28678\n",
       "15    28974\n",
       "22    29512\n",
       "12    29646\n",
       "13    29788\n",
       "8     30411\n",
       "14    30457\n",
       "6     30495\n",
       "21    32304\n",
       "1     32353\n",
       "7     32759\n",
       "dtype: int64"
      ]
     },
     "execution_count": 39,
     "metadata": {},
     "output_type": "execute_result"
    }
   ],
   "source": [
    "by_date_sorted"
   ]
  },
  {
   "cell_type": "markdown",
   "metadata": {},
   "source": [
    "# analysis hours"
   ]
  },
  {
   "cell_type": "code",
   "execution_count": 40,
   "metadata": {},
   "outputs": [
    {
     "data": {
      "text/plain": [
       "(array([ 34952.,  28299.,  58971.,  95467.,  63884.,  76408., 158800.,\n",
       "        108398., 103028.,  79617.]),\n",
       " array([ 0.8 ,  3.12,  5.44,  7.76, 10.08, 12.4 , 14.72, 17.04, 19.36,\n",
       "        21.68, 24.  ]),\n",
       " <BarContainer object of 10 artists>)"
      ]
     },
     "execution_count": 40,
     "metadata": {},
     "output_type": "execute_result"
    },
    {
     "data": {
      "image/png": "[encoded data removed]",
      "text/plain": [
       "<Figure size 432x288 with 1 Axes>"
      ]
     },
     "metadata": {
      "needs_background": "light"
     },
     "output_type": "display_data"
    }
   ],
   "source": [
    "plt.hist(data.hour,range=(0.8,24))"
   ]
  },
  {
   "cell_type": "markdown",
   "metadata": {},
   "source": [
    "# analysis Weeks"
   ]
  },
  {
   "cell_type": "code",
   "execution_count": 41,
   "metadata": {},
   "outputs": [
    {
     "data": {
      "text/plain": [
       "(array([ 91633., 107124., 115256., 124117., 148674., 132225., 110246.]),\n",
       " array([-0.5       ,  0.42857143,  1.35714286,  2.28571429,  3.21428571,\n",
       "         4.14285714,  5.07142857,  6.        ]),\n",
       " <BarContainer object of 7 artists>)"
      ]
     },
     "execution_count": 41,
     "metadata": {},
     "output_type": "execute_result"
    },
    {
     "data": {
      "image/png": "[encoded data removed]",
      "text/plain": [
       "<Figure size 432x288 with 1 Axes>"
      ]
     },
     "metadata": {
      "needs_background": "light"
     },
     "output_type": "display_data"
    }
   ],
   "source": [
    "plt.hist(data.week,bins=7,range=(-.5,6),rwidth=0.8,color='green')"
   ]
  },
  {
   "cell_type": "markdown",
   "metadata": {},
   "source": [
    "# cross analysis (hour/dow)"
   ]
  },
  {
   "cell_type": "markdown",
   "metadata": {},
   "source": [
    "by_cross=data.groupby('week hour'.split()).apply(count_rows).unstack()"
   ]
  },
  {
   "cell_type": "code",
   "execution_count": 44,
   "metadata": {},
   "outputs": [
    {
     "data": {
      "text/plain": [
       "<AxesSubplot:xlabel='hour', ylabel='week'>"
      ]
     },
     "execution_count": 44,
     "metadata": {},
     "output_type": "execute_result"
    },
    {
     "data": {
      "image/png": "[encoded data removed]",
      "text/plain": [
       "<Figure size 432x288 with 2 Axes>"
      ]
     },
     "metadata": {
      "needs_background": "light"
     },
     "output_type": "display_data"
    }
   ],
   "source": [
    "se.heatmap(by_cross)"
   ]
  },
  {
   "cell_type": "markdown",
   "metadata": {},
   "source": [
    "# by lat and lon"
   ]
  },
  {
   "cell_type": "code",
   "execution_count": 48,
   "metadata": {},
   "outputs": [
    {
     "data": {
      "text/plain": [
       "''"
      ]
     },
     "execution_count": 48,
     "metadata": {},
     "output_type": "execute_result"
    },
    {
     "data": {
      "image/png": "[encoded data removed]",
      "text/plain": [
       "<Figure size 432x288 with 1 Axes>"
      ]
     },
     "metadata": {
      "needs_background": "light"
     },
     "output_type": "display_data"
    }
   ],
   "source": [
    "plt.hist(data['Lat'],bins=100,range=(40.5,41))\n",
    ";"
   ]
  },
  {
   "cell_type": "code",
   "execution_count": null,
   "metadata": {},
   "outputs": [],
   "source": []
  }
 ],
 "metadata": {
  "kernelspec": {
   "display_name": "Python 3",
   "language": "python",
   "name": "python3"
  },
  "language_info": {
   "codemirror_mode": {
    "name": "ipython",
    "version": 3
   },
   "file_extension": ".py",
   "mimetype": "text/x-python",
   "name": "python",
   "nbconvert_exporter": "python",
   "pygments_lexer": "ipython3",
   "version": "3.8.5"
  }
 },
 "nbformat": 4,
 "nbformat_minor": 4
}

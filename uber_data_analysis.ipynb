{
 "cells": [
  {
   "cell_type": "markdown",
   "metadata": {},
   "source": [
    "## import Libraries"
   ]
  },
  {
   "cell_type": "code",
   "execution_count": 3,
   "metadata": {},
   "outputs": [],
   "source": [
    "import pandas as pd\n",
    "import numpy as np \n",
    "import seaborn as se"
   ]
  },
  {
   "cell_type": "code",
   "execution_count": 4,
   "metadata": {},
   "outputs": [],
   "source": [
    "data=pd.read_csv('uber-raw-data-aug14.csv')"
   ]
  },
  {
   "cell_type": "code",
   "execution_count": 5,
   "metadata": {},
   "outputs": [
    {
     "name": "stdout",
     "output_type": "stream",
     "text": [
      "          Date/Time      Lat      Lon    Base\n",
      "0  8/1/2014 0:03:00  40.7366 -73.9906  B02512\n",
      "1  8/1/2014 0:09:00  40.7260 -73.9918  B02512\n",
      "2  8/1/2014 0:12:00  40.7209 -74.0507  B02512\n",
      "3  8/1/2014 0:12:00  40.7387 -73.9856  B02512\n",
      "4  8/1/2014 0:12:00  40.7323 -74.0077  B02512\n"
     ]
    }
   ],
   "source": [
    "print(data.head())"
   ]
  },
  {
   "cell_type": "code",
   "execution_count": 10,
   "metadata": {},
   "outputs": [
    {
     "name": "stdout",
     "output_type": "stream",
     "text": [
      "                 Date/Time      Lat      Lon    Base\n",
      "0         8/1/2014 0:03:00  40.7366 -73.9906  B02512\n",
      "1         8/1/2014 0:09:00  40.7260 -73.9918  B02512\n",
      "2         8/1/2014 0:12:00  40.7209 -74.0507  B02512\n",
      "3         8/1/2014 0:12:00  40.7387 -73.9856  B02512\n",
      "4         8/1/2014 0:12:00  40.7323 -74.0077  B02512\n",
      "...                    ...      ...      ...     ...\n",
      "829270  8/31/2014 23:55:00  40.7552 -73.9753  B02764\n",
      "829271  8/31/2014 23:55:00  40.7552 -73.9753  B02764\n",
      "829272  8/31/2014 23:55:00  40.7617 -73.9788  B02764\n",
      "829273  8/31/2014 23:59:00  40.7395 -73.9889  B02764\n",
      "829274  8/31/2014 23:59:00  40.7270 -73.9802  B02764\n",
      "\n",
      "[829275 rows x 4 columns]\n"
     ]
    }
   ],
   "source": [
    "print(data)"
   ]
  },
  {
   "cell_type": "code",
   "execution_count": 11,
   "metadata": {},
   "outputs": [
    {
     "ename": "SyntaxError",
     "evalue": "invalid syntax (<ipython-input-11-c8d192327114>, line 1)",
     "output_type": "error",
     "traceback": [
      "\u001b[1;36m  File \u001b[1;32m\"<ipython-input-11-c8d192327114>\"\u001b[1;36m, line \u001b[1;32m1\u001b[0m\n\u001b[1;33m    data[;Data/Time]\u001b[0m\n\u001b[1;37m         ^\u001b[0m\n\u001b[1;31mSyntaxError\u001b[0m\u001b[1;31m:\u001b[0m invalid syntax\n"
     ]
    }
   ],
   "source": [
    "data[;Data/Time]"
   ]
  },
  {
   "cell_type": "code",
   "execution_count": 12,
   "metadata": {},
   "outputs": [
    {
     "data": {
      "text/plain": [
       "0           8/1/2014 0:03:00\n",
       "1           8/1/2014 0:09:00\n",
       "2           8/1/2014 0:12:00\n",
       "3           8/1/2014 0:12:00\n",
       "4           8/1/2014 0:12:00\n",
       "                 ...        \n",
       "829270    8/31/2014 23:55:00\n",
       "829271    8/31/2014 23:55:00\n",
       "829272    8/31/2014 23:55:00\n",
       "829273    8/31/2014 23:59:00\n",
       "829274    8/31/2014 23:59:00\n",
       "Name: Date/Time, Length: 829275, dtype: object"
      ]
     },
     "execution_count": 12,
     "metadata": {},
     "output_type": "execute_result"
    }
   ],
   "source": [
    "data['Date/Time']"
   ]
  },
  {
   "cell_type": "code",
   "execution_count": 13,
   "metadata": {},
   "outputs": [
    {
     "data": {
      "text/html": [
       "<div>\n",
       "<style scoped>\n",
       "    .dataframe tbody tr th:only-of-type {\n",
       "        vertical-align: middle;\n",
       "    }\n",
       "\n",
       "    .dataframe tbody tr th {\n",
       "        vertical-align: top;\n",
       "    }\n",
       "\n",
       "    .dataframe thead th {\n",
       "        text-align: right;\n",
       "    }\n",
       "</style>\n",
       "<table border=\"1\" class=\"dataframe\">\n",
       "  <thead>\n",
       "    <tr style=\"text-align: right;\">\n",
       "      <th></th>\n",
       "      <th>Date/Time</th>\n",
       "      <th>Lat</th>\n",
       "      <th>Lon</th>\n",
       "      <th>Base</th>\n",
       "    </tr>\n",
       "  </thead>\n",
       "  <tbody>\n",
       "    <tr>\n",
       "      <th>829270</th>\n",
       "      <td>8/31/2014 23:55:00</td>\n",
       "      <td>40.7552</td>\n",
       "      <td>-73.9753</td>\n",
       "      <td>B02764</td>\n",
       "    </tr>\n",
       "    <tr>\n",
       "      <th>829271</th>\n",
       "      <td>8/31/2014 23:55:00</td>\n",
       "      <td>40.7552</td>\n",
       "      <td>-73.9753</td>\n",
       "      <td>B02764</td>\n",
       "    </tr>\n",
       "    <tr>\n",
       "      <th>829272</th>\n",
       "      <td>8/31/2014 23:55:00</td>\n",
       "      <td>40.7617</td>\n",
       "      <td>-73.9788</td>\n",
       "      <td>B02764</td>\n",
       "    </tr>\n",
       "    <tr>\n",
       "      <th>829273</th>\n",
       "      <td>8/31/2014 23:59:00</td>\n",
       "      <td>40.7395</td>\n",
       "      <td>-73.9889</td>\n",
       "      <td>B02764</td>\n",
       "    </tr>\n",
       "    <tr>\n",
       "      <th>829274</th>\n",
       "      <td>8/31/2014 23:59:00</td>\n",
       "      <td>40.7270</td>\n",
       "      <td>-73.9802</td>\n",
       "      <td>B02764</td>\n",
       "    </tr>\n",
       "  </tbody>\n",
       "</table>\n",
       "</div>"
      ],
      "text/plain": [
       "                 Date/Time      Lat      Lon    Base\n",
       "829270  8/31/2014 23:55:00  40.7552 -73.9753  B02764\n",
       "829271  8/31/2014 23:55:00  40.7552 -73.9753  B02764\n",
       "829272  8/31/2014 23:55:00  40.7617 -73.9788  B02764\n",
       "829273  8/31/2014 23:59:00  40.7395 -73.9889  B02764\n",
       "829274  8/31/2014 23:59:00  40.7270 -73.9802  B02764"
      ]
     },
     "execution_count": 13,
     "metadata": {},
     "output_type": "execute_result"
    }
   ],
   "source": [
    "data.tail()"
   ]
  },
  {
   "cell_type": "code",
   "execution_count": null,
   "metadata": {},
   "outputs": [],
   "source": []
  }
 ],
 "metadata": {
  "kernelspec": {
   "display_name": "Python 3",
   "language": "python",
   "name": "python3"
  },
  "language_info": {
   "codemirror_mode": {
    "name": "ipython",
    "version": 3
   },
   "file_extension": ".py",
   "mimetype": "text/x-python",
   "name": "python",
   "nbconvert_exporter": "python",
   "pygments_lexer": "ipython3",
   "version": "3.8.5"
  }
 },
 "nbformat": 4,
 "nbformat_minor": 4
}
